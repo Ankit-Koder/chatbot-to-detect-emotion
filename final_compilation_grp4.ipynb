{
  "nbformat": 4,
  "nbformat_minor": 0,
  "metadata": {
    "colab": {
      "provenance": [],
      "gpuType": "T4"
    },
    "kernelspec": {
      "name": "python3",
      "display_name": "Python 3"
    },
    "language_info": {
      "name": "python"
    }
  },
  "cells": [
    {
      "cell_type": "markdown",
      "source": [
        "# Connecting our google drive"
      ],
      "metadata": {
        "id": "CNIPYq-aV-iq"
      }
    },
    {
      "cell_type": "code",
      "source": [
        "from google.colab import drive\n",
        "drive.mount('/content/drive')"
      ],
      "metadata": {
        "id": "344eTxG0Fsxo",
        "colab": {
          "base_uri": "https://localhost:8080/"
        },
        "outputId": "f130af71-7402-48c3-83fa-34c62af94612"
      },
      "execution_count": null,
      "outputs": [
        {
          "output_type": "stream",
          "name": "stdout",
          "text": [
            "Drive already mounted at /content/drive; to attempt to forcibly remount, call drive.mount(\"/content/drive\", force_remount=True).\n"
          ]
        }
      ]
    },
    {
      "cell_type": "markdown",
      "source": [
        "# Installing the transformer module"
      ],
      "metadata": {
        "id": "ysAs0245WG1E"
      }
    },
    {
      "cell_type": "code",
      "source": [
        "!pip install transformers"
      ],
      "metadata": {
        "colab": {
          "base_uri": "https://localhost:8080/"
        },
        "id": "bE-497waNJeC",
        "outputId": "6ac730a0-79ae-4864-e347-cac6295ff4f0"
      },
      "execution_count": null,
      "outputs": [
        {
          "output_type": "stream",
          "name": "stdout",
          "text": [
            "Collecting transformers\n",
            "  Downloading transformers-4.32.0-py3-none-any.whl (7.5 MB)\n",
            "\u001b[2K     \u001b[90m━━━━━━━━━━━━━━━━━━━━━━━━━━━━━━━━━━━━━━━━\u001b[0m \u001b[32m7.5/7.5 MB\u001b[0m \u001b[31m19.1 MB/s\u001b[0m eta \u001b[36m0:00:00\u001b[0m\n",
            "\u001b[?25hRequirement already satisfied: filelock in /usr/local/lib/python3.10/dist-packages (from transformers) (3.12.2)\n",
            "Collecting huggingface-hub<1.0,>=0.15.1 (from transformers)\n",
            "  Downloading huggingface_hub-0.16.4-py3-none-any.whl (268 kB)\n",
            "\u001b[2K     \u001b[90m━━━━━━━━━━━━━━━━━━━━━━━━━━━━━━━━━━━━━━\u001b[0m \u001b[32m268.8/268.8 kB\u001b[0m \u001b[31m22.0 MB/s\u001b[0m eta \u001b[36m0:00:00\u001b[0m\n",
            "\u001b[?25hRequirement already satisfied: numpy>=1.17 in /usr/local/lib/python3.10/dist-packages (from transformers) (1.23.5)\n",
            "Requirement already satisfied: packaging>=20.0 in /usr/local/lib/python3.10/dist-packages (from transformers) (23.1)\n",
            "Requirement already satisfied: pyyaml>=5.1 in /usr/local/lib/python3.10/dist-packages (from transformers) (6.0.1)\n",
            "Requirement already satisfied: regex!=2019.12.17 in /usr/local/lib/python3.10/dist-packages (from transformers) (2023.6.3)\n",
            "Requirement already satisfied: requests in /usr/local/lib/python3.10/dist-packages (from transformers) (2.31.0)\n",
            "Collecting tokenizers!=0.11.3,<0.14,>=0.11.1 (from transformers)\n",
            "  Downloading tokenizers-0.13.3-cp310-cp310-manylinux_2_17_x86_64.manylinux2014_x86_64.whl (7.8 MB)\n",
            "\u001b[2K     \u001b[90m━━━━━━━━━━━━━━━━━━━━━━━━━━━━━━━━━━━━━━━━\u001b[0m \u001b[32m7.8/7.8 MB\u001b[0m \u001b[31m52.1 MB/s\u001b[0m eta \u001b[36m0:00:00\u001b[0m\n",
            "\u001b[?25hCollecting safetensors>=0.3.1 (from transformers)\n",
            "  Downloading safetensors-0.3.3-cp310-cp310-manylinux_2_17_x86_64.manylinux2014_x86_64.whl (1.3 MB)\n",
            "\u001b[2K     \u001b[90m━━━━━━━━━━━━━━━━━━━━━━━━━━━━━━━━━━━━━━━━\u001b[0m \u001b[32m1.3/1.3 MB\u001b[0m \u001b[31m39.7 MB/s\u001b[0m eta \u001b[36m0:00:00\u001b[0m\n",
            "\u001b[?25hRequirement already satisfied: tqdm>=4.27 in /usr/local/lib/python3.10/dist-packages (from transformers) (4.66.1)\n",
            "Requirement already satisfied: fsspec in /usr/local/lib/python3.10/dist-packages (from huggingface-hub<1.0,>=0.15.1->transformers) (2023.6.0)\n",
            "Requirement already satisfied: typing-extensions>=3.7.4.3 in /usr/local/lib/python3.10/dist-packages (from huggingface-hub<1.0,>=0.15.1->transformers) (4.7.1)\n",
            "Requirement already satisfied: charset-normalizer<4,>=2 in /usr/local/lib/python3.10/dist-packages (from requests->transformers) (3.2.0)\n",
            "Requirement already satisfied: idna<4,>=2.5 in /usr/local/lib/python3.10/dist-packages (from requests->transformers) (3.4)\n",
            "Requirement already satisfied: urllib3<3,>=1.21.1 in /usr/local/lib/python3.10/dist-packages (from requests->transformers) (2.0.4)\n",
            "Requirement already satisfied: certifi>=2017.4.17 in /usr/local/lib/python3.10/dist-packages (from requests->transformers) (2023.7.22)\n",
            "Installing collected packages: tokenizers, safetensors, huggingface-hub, transformers\n",
            "Successfully installed huggingface-hub-0.16.4 safetensors-0.3.3 tokenizers-0.13.3 transformers-4.32.0\n"
          ]
        }
      ]
    },
    {
      "cell_type": "markdown",
      "source": [
        "# Importing the required modules"
      ],
      "metadata": {
        "id": "kxCe0agcWMQZ"
      }
    },
    {
      "cell_type": "code",
      "source": [
        "#importing the required modules\n",
        "\n",
        "import numpy as np\n",
        "import tensorflow as tf\n",
        "import pandas as pd\n",
        "import string\n",
        "from tensorflow.keras.preprocessing.text import Tokenizer\n",
        "import json\n",
        "import nltk\n",
        "import joblib\n",
        "from sklearn.feature_extraction.text import CountVectorizer , TfidfVectorizer\n",
        "from tensorflow.keras.preprocessing.sequence import pad_sequences\n",
        "from transformers import AutoTokenizer\n",
        "from sklearn.preprocessing import LabelEncoder\n",
        "from tensorflow.keras.models import load_model\n",
        "from PIL import Image\n",
        "import os\n",
        "import time\n",
        "\n"
      ],
      "metadata": {
        "id": "S37YvbEjGRTn"
      },
      "execution_count": null,
      "outputs": []
    },
    {
      "cell_type": "code",
      "source": [],
      "metadata": {
        "id": "5OrUXSKVYiYq"
      },
      "execution_count": null,
      "outputs": []
    },
    {
      "cell_type": "markdown",
      "source": [
        "# Code for the colab to take photo on demand"
      ],
      "metadata": {
        "id": "dsgz8W2kWRlC"
      }
    },
    {
      "cell_type": "code",
      "source": [
        "#code for taking snaps\n",
        "\n",
        "import cv2\n",
        "import numpy as np\n",
        "import base64\n",
        "from IPython.display import display, Javascript\n",
        "from google.colab.output import eval_js\n",
        "\n",
        "def take_photo(filename='photo.jpg', quality=0.8):\n",
        "    # Load the Haar Cascade classifier for face detection\n",
        "    face_cascade = cv2.CascadeClassifier(cv2.data.haarcascades + 'haarcascade_frontalface_default.xml')\n",
        "\n",
        "    js = Javascript('''\n",
        "        async function takePhoto(quality) {\n",
        "            const div = document.createElement('div');\n",
        "            const video = document.createElement('video');\n",
        "            video.style.display = 'block';\n",
        "            const stream = await navigator.mediaDevices.getUserMedia({video: true});\n",
        "\n",
        "            document.body.appendChild(div);\n",
        "            div.appendChild(video);\n",
        "            video.srcObject = stream;\n",
        "            await video.play();\n",
        "\n",
        "            // Resize the output to fit the video element.\n",
        "            google.colab.output.setIframeHeight(document.documentElement.scrollHeight, true);\n",
        "\n",
        "            // Wait for a short delay to ensure the video stream stabilizes (you can adjust the delay if needed).\n",
        "            await new Promise((resolve) => setTimeout(resolve, 200));\n",
        "\n",
        "            const canvas = document.createElement('canvas');\n",
        "            canvas.width = video.videoWidth;\n",
        "            canvas.height = video.videoHeight;\n",
        "            canvas.getContext('2d').drawImage(video, 0, 0);\n",
        "            stream.getVideoTracks()[0].stop();\n",
        "            div.remove();\n",
        "            return canvas.toDataURL('image/jpeg', quality);\n",
        "        }\n",
        "        ''')\n",
        "    display(js)\n",
        "\n",
        "    # Get photo data\n",
        "    data = eval_js('takePhoto({})'.format(quality))\n",
        "    # Convert the base64 image data to a numpy array\n",
        "    img_data = data.split(',')[1]\n",
        "    img_array = np.frombuffer(base64.b64decode(img_data), np.uint8)\n",
        "    # Decode the numpy array to an OpenCV image\n",
        "    img = cv2.imdecode(img_array, cv2.IMREAD_COLOR)\n",
        "\n",
        "    # Convert the image to grayscale if it has only one channel\n",
        "    if len(img.shape) == 2:\n",
        "        img = cv2.cvtColor(img, cv2.COLOR_GRAY2BGR)\n",
        "\n",
        "    # Grayscale img\n",
        "    gray = cv2.cvtColor(img, cv2.COLOR_RGB2GRAY)\n",
        "    print(gray.shape)\n",
        "    # Get face bounding box coordinates using Haar Cascade\n",
        "    faces = face_cascade.detectMultiScale(gray)\n",
        "    # Draw face bounding box on image\n",
        "    for (x, y, w, h) in faces:\n",
        "        img = cv2.rectangle(img, (x, y), (x + w, y + h), (255, 0, 0), 2)\n",
        "    # Save image\n",
        "    cv2.imwrite(filename, img)\n",
        "\n",
        "    #return filename\n",
        "\n"
      ],
      "metadata": {
        "id": "7ogyFszfyy_i"
      },
      "execution_count": null,
      "outputs": []
    },
    {
      "cell_type": "markdown",
      "source": [
        "# Vectorization and the creation of dataframe of the dataset for visualisation"
      ],
      "metadata": {
        "id": "mUTJHcCRWuxJ"
      }
    },
    {
      "cell_type": "code",
      "source": [
        "#vectorization of text\n",
        "df = pd.read_csv(\"/content/drive/MyDrive/final_version/nlp dataset/train_for_nlp.csv.csv\")\n",
        "\n",
        "target_frequency = df['Emotions'].value_counts().mean()\n",
        "\n",
        "undersampled_df = pd.DataFrame(columns=['Emotions', 'Text'])\n",
        "\n",
        "for emotion in df['Emotions'].unique():\n",
        "    emotion_data = df[df['Emotions'] == emotion]\n",
        "    num_samples = min(int(target_frequency), len(emotion_data))\n",
        "    sampled_rows = emotion_data.sample(n=num_samples, random_state=42)\n",
        "    undersampled_df = undersampled_df.append(sampled_rows)\n",
        "\n",
        "\n",
        "result_df = undersampled_df.sample(frac=1, random_state=42)\n",
        "\n",
        "\n",
        "xfeatures = result_df['Text']\n",
        "ylables = result_df['Emotions']\n",
        "\n",
        "#visualisaion\n",
        "\n",
        "undersampled_df['Emotions'].value_counts().plot(kind = \"bar\")\n",
        "\n"
      ],
      "metadata": {
        "colab": {
          "base_uri": "https://localhost:8080/",
          "height": 707
        },
        "id": "amEeCvSoJcz5",
        "outputId": "8ad13f91-0c38-43ac-c631-a6892fffe091"
      },
      "execution_count": null,
      "outputs": [
        {
          "output_type": "stream",
          "name": "stderr",
          "text": [
            "<ipython-input-4-12ba9d6860a8>:12: FutureWarning: The frame.append method is deprecated and will be removed from pandas in a future version. Use pandas.concat instead.\n",
            "  undersampled_df = undersampled_df.append(sampled_rows)\n",
            "<ipython-input-4-12ba9d6860a8>:12: FutureWarning: The frame.append method is deprecated and will be removed from pandas in a future version. Use pandas.concat instead.\n",
            "  undersampled_df = undersampled_df.append(sampled_rows)\n",
            "<ipython-input-4-12ba9d6860a8>:12: FutureWarning: The frame.append method is deprecated and will be removed from pandas in a future version. Use pandas.concat instead.\n",
            "  undersampled_df = undersampled_df.append(sampled_rows)\n",
            "<ipython-input-4-12ba9d6860a8>:12: FutureWarning: The frame.append method is deprecated and will be removed from pandas in a future version. Use pandas.concat instead.\n",
            "  undersampled_df = undersampled_df.append(sampled_rows)\n",
            "<ipython-input-4-12ba9d6860a8>:12: FutureWarning: The frame.append method is deprecated and will be removed from pandas in a future version. Use pandas.concat instead.\n",
            "  undersampled_df = undersampled_df.append(sampled_rows)\n",
            "<ipython-input-4-12ba9d6860a8>:12: FutureWarning: The frame.append method is deprecated and will be removed from pandas in a future version. Use pandas.concat instead.\n",
            "  undersampled_df = undersampled_df.append(sampled_rows)\n"
          ]
        },
        {
          "output_type": "execute_result",
          "data": {
            "text/plain": [
              "<Axes: >"
            ]
          },
          "metadata": {},
          "execution_count": 4
        },
        {
          "output_type": "display_data",
          "data": {
            "text/plain": [
              "<Figure size 640x480 with 1 Axes>"
            ],
            "image/png": "[encoded data removed]"
          },
          "metadata": {}
        }
      ]
    },
    {
      "cell_type": "markdown",
      "source": [
        "# Vectorization"
      ],
      "metadata": {
        "id": "QMrmLc5cW7Vb"
      }
    },
    {
      "cell_type": "code",
      "source": [
        "cv = CountVectorizer()\n",
        "x4 = cv.fit_transform(xfeatures)"
      ],
      "metadata": {
        "id": "i_YR8qSVXjC6"
      },
      "execution_count": null,
      "outputs": []
    },
    {
      "cell_type": "code",
      "source": [
        "#loading the nlp models\n",
        "nlp_model = joblib.load('/content/drive/MyDrive/final_version/nlp model /emotion_classifier_lr_model.pkl')\n"
      ],
      "metadata": {
        "id": "tQnYvM0MIsXl"
      },
      "execution_count": null,
      "outputs": []
    },
    {
      "cell_type": "code",
      "source": [
        "#function to get the emotion from text\n",
        "def predict_emotion(text , model):\n",
        "  myvect = cv.transform(text).toarray()\n",
        "  prediction = model.predict(myvect)\n",
        "  #print(prediction,\"\\n\")\n",
        "  pred_prob = (model.predict_proba(myvect))\n",
        "  #print(pred_prob,\"\\n\")\n",
        "  pred_percentage_for_all = dict(zip(model.classes_,pred_prob[0]))\n",
        "  return prediction[0]"
      ],
      "metadata": {
        "id": "vE2uYa8NKSm6"
      },
      "execution_count": null,
      "outputs": []
    },
    {
      "cell_type": "code",
      "source": [],
      "metadata": {
        "id": "My0bGDCWKabn"
      },
      "execution_count": null,
      "outputs": []
    },
    {
      "cell_type": "code",
      "source": [],
      "metadata": {
        "id": "fzrl7r5JMRsI"
      },
      "execution_count": null,
      "outputs": []
    },
    {
      "cell_type": "markdown",
      "source": [
        "# Function for finding the max occuring of the list"
      ],
      "metadata": {
        "id": "ovMf_nYKMS8c"
      }
    },
    {
      "cell_type": "code",
      "source": [
        "\n",
        "\n",
        "from collections import Counter\n",
        "\n",
        "def max_occuring_element(lst):\n",
        "    # Count the occurrences of each element in the list\n",
        "    count_dict = Counter(lst)\n",
        "\n",
        "    # Find the element with the maximum occurrence\n",
        "    max_occurrence = max(count_dict.values())\n",
        "    max_occuring_elements = [element for element, count in count_dict.items() if count == max_occurrence]\n",
        "\n",
        "    return max_occuring_elements\n",
        "\n"
      ],
      "metadata": {
        "id": "MljMp0_JN4AW"
      },
      "execution_count": null,
      "outputs": []
    },
    {
      "cell_type": "markdown",
      "source": [
        "# Loading our saved model for image emotion processing."
      ],
      "metadata": {
        "id": "tpAhy7AoYAKI"
      }
    },
    {
      "cell_type": "code",
      "source": [
        "#loading the emotional recognition model\n",
        "emotion_model = load_model('/content/drive/MyDrive/final_version/emotion recogniton model/visualmodel_2.h5')"
      ],
      "metadata": {
        "id": "LEkXarePI0L0"
      },
      "execution_count": null,
      "outputs": []
    },
    {
      "cell_type": "code",
      "source": [
        "tf.keras.utils.plot_model(emotion_model)"
      ],
      "metadata": {
        "id": "SpUXqltqEMg6"
      },
      "execution_count": null,
      "outputs": []
    },
    {
      "cell_type": "markdown",
      "source": [
        "# Code for the decoading of emotion"
      ],
      "metadata": {
        "id": "fSl8Y9BbY7cj"
      }
    },
    {
      "cell_type": "code",
      "source": [
        "label_to_text = {0:'anger', 1: 'contempt',2:'disgust', 3:'fear', 4:'happy',5:'neutral', 6: 'sad', 7: 'surprise'}"
      ],
      "metadata": {
        "id": "F8A1KK740ERu"
      },
      "execution_count": null,
      "outputs": []
    },
    {
      "cell_type": "markdown",
      "source": [
        "# Preprocessing for the taken image from webcam"
      ],
      "metadata": {
        "id": "8viVg8aJZEON"
      }
    },
    {
      "cell_type": "code",
      "source": [
        "#image pre processing\n",
        "def pre_processing(filename):\n",
        "\n",
        "    image = Image.open(filename)\n",
        "    #image_grey = image.convert('L')\n",
        "    # procesed_image = image.resize((224,224))\n",
        "    # qq = np.array(procesed_image)\n",
        "    #qq =np.expand_dims(qq,axis = -1)\n",
        "\n",
        "    procesed_image = image.resize((224,224))\n",
        "    qq = np.array(procesed_image)\n",
        "\n",
        "\n",
        "    single_image_batch = np.expand_dims(qq, axis=0)\n",
        "    z = emotion_model.predict(single_image_batch).argmax()\n",
        "\n",
        "    return label_to_text[z]\n"
      ],
      "metadata": {
        "id": "Nwoe4Uy3zmEp"
      },
      "execution_count": null,
      "outputs": []
    },
    {
      "cell_type": "code",
      "source": [
        "def emotion_image_detection(counter_var):\n",
        "  file_name = \"/content/drive/MyDrive/final_version/photo_detect/image{}.jpg\".format(counter_var)\n",
        "  take_photo(filename = file_name)\n",
        "  value = pre_processing(file_name)\n",
        "  return value\n",
        "\n",
        "\n",
        "\n",
        "\n"
      ],
      "metadata": {
        "id": "vZqGvNC20kaQ"
      },
      "execution_count": null,
      "outputs": []
    },
    {
      "cell_type": "code",
      "source": [],
      "metadata": {
        "id": "8CDOjfRo1pUf"
      },
      "execution_count": null,
      "outputs": []
    },
    {
      "cell_type": "code",
      "source": [
        "#to get the promiment emotion out if the lit\n",
        "\n",
        "from collections import Counter\n",
        "\n",
        "def max_occuring_element(lst):\n",
        "    # Count the occurrences of each element in the list\n",
        "    count_dict = Counter(lst)\n",
        "\n",
        "    # Find the element with the maximum occurrence\n",
        "    max_occurrence = max(count_dict.values())\n",
        "    max_occuring_elements = [element for element, count in count_dict.items() if count == max_occurrence]\n",
        "\n",
        "    return max_occuring_elements\n"
      ],
      "metadata": {
        "id": "dqAHbZcGxWjZ"
      },
      "execution_count": null,
      "outputs": []
    },
    {
      "cell_type": "markdown",
      "source": [
        "# The chat bot model"
      ],
      "metadata": {
        "id": "BZZvDhb3ZQYY"
      }
    },
    {
      "cell_type": "code",
      "source": [
        "import json\n",
        "from difflib import get_close_matches\n",
        "\n",
        "def load_knowlegde_base(path_file:str)-> dict:\n",
        "  with open(path_file , 'r' ) as file:\n",
        "    data: dict = json.load(file)\n",
        "  return data\n",
        "\n",
        "def save_knowledge_base(path_file : str , data :dict):\n",
        "  with open(path_file , 'w') as file:\n",
        "    json.dump(data , file , indent = 2)\n",
        "\n",
        "def find_best_match(user_question: str , questions: list[str]) -> str|None:\n",
        "  matches : list = get_close_matches(user_question ,  questions , n = 1 , cutoff\n",
        "   = 0.6)\n",
        "  return matches[0] if matches else None\n",
        "\n",
        "def get_answer_for_question(question: str , knowledge_base : dict) -> str | None:\n",
        "  for q in knowledge_base['question']:\n",
        "    if q['question'] == question:\n",
        "      return q['answer']\n",
        "\n",
        "\n"
      ],
      "metadata": {
        "id": "DEJIRmAnB0Wd"
      },
      "execution_count": null,
      "outputs": []
    },
    {
      "cell_type": "code",
      "source": [
        "import random\n",
        "def chatbot():\n",
        "  knowledge_base :dict = load_knowlegde_base('/content/drive/MyDrive/final_version/intent for chatbot/knowlede_base.json')\n",
        "\n",
        "\n",
        "#exiting quotes\n",
        "  exits = [\"Goodbye for now, as I welcome the mysteries that the future holds\",\n",
        "         \"In parting, I take with me the lessons learned and the strength gained.\",\n",
        "         \"As I bid farewell, I carry the warmth of cherished moments in my heart.\",\n",
        "         \"Like a shooting star, I leave a trail of dreams behind on my onward journey.\"]\n",
        "\n",
        "\n",
        "  global emotion_list\n",
        "  emotion_list = list()\n",
        "\n",
        "  global emotion_list_visual\n",
        "  emotion_list_visual = list()\n",
        "\n",
        "  counter_variable = 0\n",
        "\n",
        "  input_shape = 6\n",
        "  image_file_list = []\n",
        "\n",
        "\n",
        "  while True:\n",
        "    user_input : str = input(\"YOU ->> \")\n",
        "    emotion_list.append(predict_emotion([user_input],nlp_model))\n",
        "    emotion_list_visual.append(emotion_image_detection(counter_variable))\n",
        "\n",
        "    counter_variable = counter_variable + 1\n",
        "\n",
        "\n",
        "    if user_input.lower() == 'goodbye':\n",
        "      print(\"Sagittarias ->> :\" ,exits[random.randint(0,3)])\n",
        "      break\n",
        "    best_match :str| None = find_best_match(user_input ,[ q['question'] for q in knowledge_base['question']])\n",
        "\n",
        "    if best_match:\n",
        "      answer : str = get_answer_for_question(best_match , knowledge_base)\n",
        "      print(f'Sagittarias ->> : {answer}')\n",
        "\n",
        "    else:\n",
        "      print(\"Sagittarias : I do not know the answer .  Can you teach me ? \")\n",
        "      new_answer: str = input(' ** Type the answer or skip ** ->')\n",
        "\n",
        "      if new_answer.lower() != 'skip':\n",
        "        knowledge_base['question'].append({\"question\" : user_input , \"answer\": new_answer})\n",
        "        save_knowledge_base('/content/drive/MyDrive/final_version/intent for chatbot/knowlede_base.json' , knowledge_base)\n",
        "        print('bot : Thank you learnt it')\n"
      ],
      "metadata": {
        "id": "1wk8BM0FB98y"
      },
      "execution_count": null,
      "outputs": []
    },
    {
      "cell_type": "code",
      "source": [
        "if __name__ == '__main__':\n",
        "  chatbot()"
      ],
      "metadata": {
        "colab": {
          "base_uri": "https://localhost:8080/",
          "height": 415
        },
        "id": "0LfVSGwUDRLB",
        "outputId": "04bfcbc9-3db4-4ea4-dced-9697ca53f4f7"
      },
      "execution_count": null,
      "outputs": [
        {
          "name": "stdout",
          "output_type": "stream",
          "text": [
            "YOU ->> hello\n"
          ]
        },
        {
          "output_type": "display_data",
          "data": {
            "text/plain": [
              "<IPython.core.display.Javascript object>"
            ],
            "application/javascript": [
              "\n",
              "        async function takePhoto(quality) {\n",
              "            const div = document.createElement('div');\n",
              "            const video = document.createElement('video');\n",
              "            video.style.display = 'block';\n",
              "            const stream = await navigator.mediaDevices.getUserMedia({video: true});\n",
              "\n",
              "            document.body.appendChild(div);\n",
              "            div.appendChild(video);\n",
              "            video.srcObject = stream;\n",
              "            await video.play();\n",
              "\n",
              "            // Resize the output to fit the video element.\n",
              "            google.colab.output.setIframeHeight(document.documentElement.scrollHeight, true);\n",
              "\n",
              "            // Wait for a short delay to ensure the video stream stabilizes (you can adjust the delay if needed).\n",
              "            await new Promise((resolve) => setTimeout(resolve, 200));\n",
              "\n",
              "            const canvas = document.createElement('canvas');\n",
              "            canvas.width = video.videoWidth;\n",
              "            canvas.height = video.videoHeight;\n",
              "            canvas.getContext('2d').drawImage(video, 0, 0);\n",
              "            stream.getVideoTracks()[0].stop();\n",
              "            div.remove();\n",
              "            return canvas.toDataURL('image/jpeg', quality);\n",
              "        }\n",
              "        "
            ]
          },
          "metadata": {}
        },
        {
          "name": "stdout",
          "output_type": "stream",
          "text": [
            "(480, 640)\n",
            "1/1 [==============================] - 0s 379ms/step\n",
            "Sagittarias ->> : What is up\n",
            "YOU ->> nice \n"
          ]
        },
        {
          "output_type": "display_data",
          "data": {
            "text/plain": [
              "<IPython.core.display.Javascript object>"
            ],
            "application/javascript": [
              "\n",
              "        async function takePhoto(quality) {\n",
              "            const div = document.createElement('div');\n",
              "            const video = document.createElement('video');\n",
              "            video.style.display = 'block';\n",
              "            const stream = await navigator.mediaDevices.getUserMedia({video: true});\n",
              "\n",
              "            document.body.appendChild(div);\n",
              "            div.appendChild(video);\n",
              "            video.srcObject = stream;\n",
              "            await video.play();\n",
              "\n",
              "            // Resize the output to fit the video element.\n",
              "            google.colab.output.setIframeHeight(document.documentElement.scrollHeight, true);\n",
              "\n",
              "            // Wait for a short delay to ensure the video stream stabilizes (you can adjust the delay if needed).\n",
              "            await new Promise((resolve) => setTimeout(resolve, 200));\n",
              "\n",
              "            const canvas = document.createElement('canvas');\n",
              "            canvas.width = video.videoWidth;\n",
              "            canvas.height = video.videoHeight;\n",
              "            canvas.getContext('2d').drawImage(video, 0, 0);\n",
              "            stream.getVideoTracks()[0].stop();\n",
              "            div.remove();\n",
              "            return canvas.toDataURL('image/jpeg', quality);\n",
              "        }\n",
              "        "
            ]
          },
          "metadata": {}
        },
        {
          "name": "stdout",
          "output_type": "stream",
          "text": [
            "(480, 640)\n",
            "1/1 [==============================] - 0s 387ms/step\n",
            "Sagittarias : I do not know the answer .  Can you teach me ? \n",
            " ** Type the answer or skip ** ->do tell\n",
            "bot : Thank you learnt it\n",
            "YOU ->> nice\n"
          ]
        },
        {
          "output_type": "display_data",
          "data": {
            "text/plain": [
              "<IPython.core.display.Javascript object>"
            ],
            "application/javascript": [
              "\n",
              "        async function takePhoto(quality) {\n",
              "            const div = document.createElement('div');\n",
              "            const video = document.createElement('video');\n",
              "            video.style.display = 'block';\n",
              "            const stream = await navigator.mediaDevices.getUserMedia({video: true});\n",
              "\n",
              "            document.body.appendChild(div);\n",
              "            div.appendChild(video);\n",
              "            video.srcObject = stream;\n",
              "            await video.play();\n",
              "\n",
              "            // Resize the output to fit the video element.\n",
              "            google.colab.output.setIframeHeight(document.documentElement.scrollHeight, true);\n",
              "\n",
              "            // Wait for a short delay to ensure the video stream stabilizes (you can adjust the delay if needed).\n",
              "            await new Promise((resolve) => setTimeout(resolve, 200));\n",
              "\n",
              "            const canvas = document.createElement('canvas');\n",
              "            canvas.width = video.videoWidth;\n",
              "            canvas.height = video.videoHeight;\n",
              "            canvas.getContext('2d').drawImage(video, 0, 0);\n",
              "            stream.getVideoTracks()[0].stop();\n",
              "            div.remove();\n",
              "            return canvas.toDataURL('image/jpeg', quality);\n",
              "        }\n",
              "        "
            ]
          },
          "metadata": {}
        },
        {
          "name": "stdout",
          "output_type": "stream",
          "text": [
            "(480, 640)\n",
            "1/1 [==============================] - 0s 230ms/step\n",
            "Sagittarias ->> : do tell\n",
            "YOU ->> i went to dakhineswer today\n"
          ]
        },
        {
          "output_type": "display_data",
          "data": {
            "text/plain": [
              "<IPython.core.display.Javascript object>"
            ],
            "application/javascript": [
              "\n",
              "        async function takePhoto(quality) {\n",
              "            const div = document.createElement('div');\n",
              "            const video = document.createElement('video');\n",
              "            video.style.display = 'block';\n",
              "            const stream = await navigator.mediaDevices.getUserMedia({video: true});\n",
              "\n",
              "            document.body.appendChild(div);\n",
              "            div.appendChild(video);\n",
              "            video.srcObject = stream;\n",
              "            await video.play();\n",
              "\n",
              "            // Resize the output to fit the video element.\n",
              "            google.colab.output.setIframeHeight(document.documentElement.scrollHeight, true);\n",
              "\n",
              "            // Wait for a short delay to ensure the video stream stabilizes (you can adjust the delay if needed).\n",
              "            await new Promise((resolve) => setTimeout(resolve, 200));\n",
              "\n",
              "            const canvas = document.createElement('canvas');\n",
              "            canvas.width = video.videoWidth;\n",
              "            canvas.height = video.videoHeight;\n",
              "            canvas.getContext('2d').drawImage(video, 0, 0);\n",
              "            stream.getVideoTracks()[0].stop();\n",
              "            div.remove();\n",
              "            return canvas.toDataURL('image/jpeg', quality);\n",
              "        }\n",
              "        "
            ]
          },
          "metadata": {}
        },
        {
          "name": "stdout",
          "output_type": "stream",
          "text": [
            "(480, 640)\n",
            "1/1 [==============================] - 0s 222ms/step\n",
            "Sagittarias ->> : wao thats great u must have learnt many new things\n",
            "YOU ->> goodbye\n"
          ]
        },
        {
          "output_type": "display_data",
          "data": {
            "text/plain": [
              "<IPython.core.display.Javascript object>"
            ],
            "application/javascript": [
              "\n",
              "        async function takePhoto(quality) {\n",
              "            const div = document.createElement('div');\n",
              "            const video = document.createElement('video');\n",
              "            video.style.display = 'block';\n",
              "            const stream = await navigator.mediaDevices.getUserMedia({video: true});\n",
              "\n",
              "            document.body.appendChild(div);\n",
              "            div.appendChild(video);\n",
              "            video.srcObject = stream;\n",
              "            await video.play();\n",
              "\n",
              "            // Resize the output to fit the video element.\n",
              "            google.colab.output.setIframeHeight(document.documentElement.scrollHeight, true);\n",
              "\n",
              "            // Wait for a short delay to ensure the video stream stabilizes (you can adjust the delay if needed).\n",
              "            await new Promise((resolve) => setTimeout(resolve, 200));\n",
              "\n",
              "            const canvas = document.createElement('canvas');\n",
              "            canvas.width = video.videoWidth;\n",
              "            canvas.height = video.videoHeight;\n",
              "            canvas.getContext('2d').drawImage(video, 0, 0);\n",
              "            stream.getVideoTracks()[0].stop();\n",
              "            div.remove();\n",
              "            return canvas.toDataURL('image/jpeg', quality);\n",
              "        }\n",
              "        "
            ]
          },
          "metadata": {}
        },
        {
          "output_type": "stream",
          "name": "stdout",
          "text": [
            "(480, 640)\n",
            "1/1 [==============================] - 0s 385ms/step\n",
            "Sagittarias ->> : As I bid farewell, I carry the warmth of cherished moments in my heart.\n"
          ]
        }
      ]
    },
    {
      "cell_type": "code",
      "source": [
        "emotion_list"
      ],
      "metadata": {
        "id": "P2tSZFoxTpF-",
        "colab": {
          "base_uri": "https://localhost:8080/"
        },
        "outputId": "3178d010-7b3c-4d67-a3d1-f52b5c6e84f1"
      },
      "execution_count": null,
      "outputs": [
        {
          "output_type": "execute_result",
          "data": {
            "text/plain": [
              "['joy', 'joy', 'joy', 'joy', 'joy']"
            ]
          },
          "metadata": {},
          "execution_count": 61
        }
      ]
    },
    {
      "cell_type": "code",
      "source": [
        "emotion_list_visual"
      ],
      "metadata": {
        "colab": {
          "base_uri": "https://localhost:8080/"
        },
        "id": "BXT-p5Hy4o0A",
        "outputId": "b319907b-887b-41c5-a06b-f7cfa01e785e"
      },
      "execution_count": null,
      "outputs": [
        {
          "output_type": "execute_result",
          "data": {
            "text/plain": [
              "['contempt', 'neutral', 'neutral', 'neutral', 'neutral']"
            ]
          },
          "metadata": {},
          "execution_count": 62
        }
      ]
    },
    {
      "cell_type": "code",
      "source": [
        "max_occuring_element(emotion_list)[0] and max_occuring_element(emotion_list_visual)[0]"
      ],
      "metadata": {
        "colab": {
          "base_uri": "https://localhost:8080/",
          "height": 36
        },
        "id": "DkRC82Q4YWUt",
        "outputId": "5e49c81f-dd73-43ca-fc06-febfdd5fc13d"
      },
      "execution_count": null,
      "outputs": [
        {
          "output_type": "execute_result",
          "data": {
            "text/plain": [
              "'neutral'"
            ],
            "application/vnd.google.colaboratory.intrinsic+json": {
              "type": "string"
            }
          },
          "metadata": {},
          "execution_count": 75
        }
      ]
    },
    {
      "cell_type": "code",
      "source": [
        "max_occuring_element(emotion_list_visual)[0] or  max_occuring_element(emotion_list)[0]"
      ],
      "metadata": {
        "colab": {
          "base_uri": "https://localhost:8080/",
          "height": 36
        },
        "id": "QnjpYeoDYZsb",
        "outputId": "da52e17e-0e08-4f97-b1f8-45657e3227c8"
      },
      "execution_count": null,
      "outputs": [
        {
          "output_type": "execute_result",
          "data": {
            "text/plain": [
              "'neutral'"
            ],
            "application/vnd.google.colaboratory.intrinsic+json": {
              "type": "string"
            }
          },
          "metadata": {},
          "execution_count": 76
        }
      ]
    },
    {
      "cell_type": "code",
      "source": [
        "print( max_occuring_element(emotion_list)[0]   )\n",
        "print( max_occuring_element(emotion_list_visual)[0] )\n",
        "\n",
        "if (max_occuring_element(emotion_list)[0] and max_occuring_element(emotion_list_visual)[0] ) in ['sad','sadness' , 'contempt' , 'anger' ,'disgust']:\n",
        "\n",
        "  print(\"\"\" I'm sorry to that you're sad. Remember that you're not alone, \\n\n",
        "and it's okay to have these emotions. If you'd like, I'm here to listen and chat with you. \\n\n",
        "Sometimes, expressing your feelings can help lighten the load. \\n\n",
        "Just know that it's alright to reach out for support when you need it.\"\"\")\n",
        "\n",
        "elif (  max_occuring_element(emotion_list_visual)[0] or  max_occuring_element(emotion_list)[0]   )  in [ 'happy' , 'surprise' , 'joy','neutral' ]:\n",
        "\n",
        "  print(\"\"\"Congratulations on being in such a great mood!\\n\n",
        "😄 Your positivity is truly contagious and it's wonderful to see your upbeat energy.\\n\n",
        "Keep spreading those good vibes and making the world a brighter place.\\n\n",
        "If there's anything you'd like to chat about or share, I'm here to listen and engage in some positive conversation! 🌞 \"\"\")\n",
        "\n",
        "else:\n",
        "  print(\" Its nice talking to you good bye see you later \")\n"
      ],
      "metadata": {
        "id": "Nf9hLY33xcS3",
        "colab": {
          "base_uri": "https://localhost:8080/"
        },
        "outputId": "5082a55d-0b20-4d80-9a63-c57b37707a5e"
      },
      "execution_count": null,
      "outputs": [
        {
          "output_type": "stream",
          "name": "stdout",
          "text": [
            "joy\n",
            "neutral\n",
            "Congratulations on being in such a great mood!\n",
            "\n",
            "😄 Your positivity is truly contagious and it's wonderful to see your upbeat energy.\n",
            "\n",
            "Keep spreading those good vibes and making the world a brighter place.\n",
            "\n",
            "If there's anything you'd like to chat about or share, I'm here to listen and engage in some positive conversation! 🌞 \n"
          ]
        }
      ]
    },
    {
      "cell_type": "code",
      "source": [
        "# label_to_text = {0:'anger', 1: 'contempt',2:'disgust', 3:'fear', 4:'happy',5:'neutral', 6: 'sad', 7: 'surprise'}\n",
        "\n",
        "#chatbot code\n",
        "import random\n",
        "\n",
        "#exiting quotes\n",
        "exits = [\"Goodbye for now, as I welcome the mysteries that the future holds\",\n",
        "         \"In parting, I take with me the lessons learned and the strength gained.\",\n",
        "         \"As I bid farewell, I carry the warmth of cherished moments in my heart.\",\n",
        "         \"Like a shooting star, I leave a trail of dreams behind on my onward journey.\"]\n",
        "\n",
        "emotion_list = []\n",
        "emotion_list_visual = []\n",
        "\n",
        "counter_variable = 0\n",
        "\n",
        "input_shape = 6\n",
        "image_file_list = []\n",
        "#chatbot loop\n",
        "while True:\n",
        "\n",
        "  text_p = []\n",
        "  prediction_input = input(\"you... :-->\")\n",
        "  emotion_list.append(predict_emotion([prediction_input],nlp_model))\n",
        "  emotion_list_visual.append(emotion_image_detection(counter_variable))\n",
        "\n",
        "  counter_variable = counter_variable + 1\n",
        "\n",
        "\n",
        "\n",
        "  if prediction_input == \"goodbye\":\n",
        "    print(\"Dell :\" ,exits[random.randint(0,3)])\n",
        "    break\n",
        "  prediction_input = [letter.lower() for letter in prediction_input if letter not in string.punctuation]\n",
        "  prediction_input = ''.join(prediction_input)\n",
        "  text_p.append(prediction_input)\n",
        "\n",
        "  prediction_input = tokenizer.texts_to_sequences(text_p)\n",
        "  prediction_input = np.array(prediction_input).reshape(-1)\n",
        "  prediction_input = pad_sequences([prediction_input],input_shape )\n",
        "\n",
        "\n",
        "  output = chatbot.predict(prediction_input)\n",
        "  output = output.argmax()\n",
        "\n",
        "  response_tag = le.inverse_transform([output])[0]\n",
        "\n",
        "  print(\"Dell : \",random.choice(responses[response_tag]))\n",
        "\n",
        "\n",
        "print(max_occuring_element(emotion_list))\n",
        "print(max_occuring_element(emotion_list_visual))\n",
        "if max_occuring_element(emotion_list) or max_occuring_element(emotion_list_visual) in ['sad' , 'contempt' , 'anger' ,'disgus']:\n",
        "  print(\"i think you should listen to calmimg songs \")\n",
        "else:\n",
        "  print(\"here are some songs for you \")"
      ],
      "metadata": {
        "id": "N9VhsLOyK6lo"
      },
      "execution_count": null,
      "outputs": []
    }
  ]
}